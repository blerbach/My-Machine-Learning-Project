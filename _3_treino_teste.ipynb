{
 "cells": [
  {
   "cell_type": "markdown",
   "metadata": {},
   "source": [
    "# Criação de Modelos de Machine Learning"
   ]
  },
  {
   "cell_type": "markdown",
   "metadata": {},
   "source": [
    "Nesta etapa o conjunto de dados foi particionado aleatoriamente entre dados de treino (70%) e de teste (30%), as variáveis categóricas foram transformadas em numéricas e foram avaliados alguns modelos baseados em um algoritmo de ensemble de árvores de decisão com aumento de gradiente (gradiente boosting) conforme alteração de hiperparâmetros. Aquele que apresentou melhor desempenho foi selecionado e foram calculadas métricas de avaliação de performance utilizando os dados de teste."
   ]
  },
  {
   "cell_type": "code",
   "execution_count": 1,
   "metadata": {},
   "outputs": [],
   "source": [
    "# Importando bibliotecas\n",
    "import pickle\n",
    "import pandas as pd\n",
    "from sklearn.model_selection import train_test_split, RandomizedSearchCV\n",
    "from sklearn.externals import joblib\n",
    "from xgboost import XGBRegressor, plot_importance\n",
    "from database_utils import Metrics\n",
    "import seaborn as sns\n",
    "from matplotlib import pyplot"
   ]
  },
  {
   "cell_type": "code",
   "execution_count": 2,
   "metadata": {},
   "outputs": [],
   "source": [
    "# Leitura da base de dados consolidada após etapa de processamento\n",
    "df = pd.read_csv(filepath_or_buffer='df_tratado.csv', sep=';', encoding='utf-8', decimal=',')"
   ]
  },
  {
   "cell_type": "code",
   "execution_count": 3,
   "metadata": {},
   "outputs": [],
   "source": [
    "# Listando variáveis explicativas qualitativas\n",
    "col_list =  ['SG_UF_RESIDENCIA',\n",
    "             'TP_SEXO',\n",
    "             'TP_ESTADO_CIVIL',\n",
    "             'TP_COR_RACA',\n",
    "             'TP_NACIONALIDADE',\n",
    "             'TP_ESCOLA',\n",
    "             'TP_ENSINO',\n",
    "             'TP_DEPENDENCIA_ADM_ESC',\n",
    "             'TP_LOCALIZACAO_ESC',\n",
    "             'TP_SIT_FUNC_ESC',\n",
    "             'TP_LINGUA',\n",
    "             'Q001',\n",
    "             'Q002',\n",
    "             'Q003',\n",
    "             'Q004',\n",
    "             'Q006',\n",
    "             'Q007',\n",
    "             'Q008',\n",
    "             'Q009',\n",
    "             'Q010',\n",
    "             'Q011',\n",
    "             'Q012',\n",
    "             'Q013',\n",
    "             'Q014',\n",
    "             'Q015',\n",
    "             'Q016',\n",
    "             'Q017',\n",
    "             'Q018',\n",
    "             'Q019',\n",
    "             'Q020',\n",
    "             'Q021',\n",
    "             'Q022',\n",
    "             'Q023',\n",
    "             'Q024',\n",
    "             'Q025',\n",
    "             'Q027']\n",
    "\n",
    "# Garantindo que todas serão tratadas como qualitativas\n",
    "for col in col_list:\n",
    "    df[col] = df[col].astype(object)"
   ]
  },
  {
   "cell_type": "code",
   "execution_count": 4,
   "metadata": {},
   "outputs": [],
   "source": [
    "# Transformando variáveis qualitativas em dummies e eliminando uma das categoriais a fim de eliminar multicoliearidade\n",
    "df = pd.get_dummies(df, columns=col_list, prefix=col_list, drop_first=True)"
   ]
  },
  {
   "cell_type": "code",
   "execution_count": 5,
   "metadata": {},
   "outputs": [
    {
     "data": {
      "text/html": [
       "<div>\n",
       "<style scoped>\n",
       "    .dataframe tbody tr th:only-of-type {\n",
       "        vertical-align: middle;\n",
       "    }\n",
       "\n",
       "    .dataframe tbody tr th {\n",
       "        vertical-align: top;\n",
       "    }\n",
       "\n",
       "    .dataframe thead th {\n",
       "        text-align: right;\n",
       "    }\n",
       "</style>\n",
       "<table border=\"1\" class=\"dataframe\">\n",
       "  <thead>\n",
       "    <tr style=\"text-align: right;\">\n",
       "      <th></th>\n",
       "      <th>NU_IDADE</th>\n",
       "      <th>Q005</th>\n",
       "      <th>NU_NOTA_TOT</th>\n",
       "      <th>IN_RENDIMENTO</th>\n",
       "      <th>SG_UF_RESIDENCIA_AL</th>\n",
       "      <th>SG_UF_RESIDENCIA_AM</th>\n",
       "      <th>SG_UF_RESIDENCIA_AP</th>\n",
       "      <th>SG_UF_RESIDENCIA_BA</th>\n",
       "      <th>SG_UF_RESIDENCIA_CE</th>\n",
       "      <th>SG_UF_RESIDENCIA_DF</th>\n",
       "      <th>...</th>\n",
       "      <th>Q023_B</th>\n",
       "      <th>Q024_B</th>\n",
       "      <th>Q024_C</th>\n",
       "      <th>Q024_D</th>\n",
       "      <th>Q024_E</th>\n",
       "      <th>Q025_B</th>\n",
       "      <th>Q027_B</th>\n",
       "      <th>Q027_C</th>\n",
       "      <th>Q027_D</th>\n",
       "      <th>Q027_E</th>\n",
       "    </tr>\n",
       "  </thead>\n",
       "  <tbody>\n",
       "    <tr>\n",
       "      <th>0</th>\n",
       "      <td>17.0</td>\n",
       "      <td>3.0</td>\n",
       "      <td>2932.9</td>\n",
       "      <td>0.984189</td>\n",
       "      <td>0</td>\n",
       "      <td>0</td>\n",
       "      <td>0</td>\n",
       "      <td>0</td>\n",
       "      <td>0</td>\n",
       "      <td>0</td>\n",
       "      <td>...</td>\n",
       "      <td>1</td>\n",
       "      <td>1</td>\n",
       "      <td>0</td>\n",
       "      <td>0</td>\n",
       "      <td>0</td>\n",
       "      <td>1</td>\n",
       "      <td>1</td>\n",
       "      <td>0</td>\n",
       "      <td>0</td>\n",
       "      <td>0</td>\n",
       "    </tr>\n",
       "    <tr>\n",
       "      <th>1</th>\n",
       "      <td>17.0</td>\n",
       "      <td>5.0</td>\n",
       "      <td>2790.0</td>\n",
       "      <td>0.984189</td>\n",
       "      <td>0</td>\n",
       "      <td>0</td>\n",
       "      <td>0</td>\n",
       "      <td>0</td>\n",
       "      <td>0</td>\n",
       "      <td>0</td>\n",
       "      <td>...</td>\n",
       "      <td>1</td>\n",
       "      <td>1</td>\n",
       "      <td>0</td>\n",
       "      <td>0</td>\n",
       "      <td>0</td>\n",
       "      <td>1</td>\n",
       "      <td>0</td>\n",
       "      <td>0</td>\n",
       "      <td>1</td>\n",
       "      <td>0</td>\n",
       "    </tr>\n",
       "    <tr>\n",
       "      <th>2</th>\n",
       "      <td>17.0</td>\n",
       "      <td>2.0</td>\n",
       "      <td>3090.2</td>\n",
       "      <td>0.984189</td>\n",
       "      <td>0</td>\n",
       "      <td>0</td>\n",
       "      <td>0</td>\n",
       "      <td>0</td>\n",
       "      <td>0</td>\n",
       "      <td>0</td>\n",
       "      <td>...</td>\n",
       "      <td>0</td>\n",
       "      <td>0</td>\n",
       "      <td>1</td>\n",
       "      <td>0</td>\n",
       "      <td>0</td>\n",
       "      <td>1</td>\n",
       "      <td>0</td>\n",
       "      <td>0</td>\n",
       "      <td>1</td>\n",
       "      <td>0</td>\n",
       "    </tr>\n",
       "    <tr>\n",
       "      <th>3</th>\n",
       "      <td>17.0</td>\n",
       "      <td>4.0</td>\n",
       "      <td>2908.3</td>\n",
       "      <td>0.984189</td>\n",
       "      <td>0</td>\n",
       "      <td>0</td>\n",
       "      <td>0</td>\n",
       "      <td>0</td>\n",
       "      <td>0</td>\n",
       "      <td>0</td>\n",
       "      <td>...</td>\n",
       "      <td>1</td>\n",
       "      <td>0</td>\n",
       "      <td>1</td>\n",
       "      <td>0</td>\n",
       "      <td>0</td>\n",
       "      <td>1</td>\n",
       "      <td>0</td>\n",
       "      <td>0</td>\n",
       "      <td>1</td>\n",
       "      <td>0</td>\n",
       "    </tr>\n",
       "    <tr>\n",
       "      <th>4</th>\n",
       "      <td>18.0</td>\n",
       "      <td>4.0</td>\n",
       "      <td>3365.2</td>\n",
       "      <td>0.984189</td>\n",
       "      <td>0</td>\n",
       "      <td>0</td>\n",
       "      <td>0</td>\n",
       "      <td>0</td>\n",
       "      <td>0</td>\n",
       "      <td>0</td>\n",
       "      <td>...</td>\n",
       "      <td>1</td>\n",
       "      <td>0</td>\n",
       "      <td>1</td>\n",
       "      <td>0</td>\n",
       "      <td>0</td>\n",
       "      <td>1</td>\n",
       "      <td>0</td>\n",
       "      <td>0</td>\n",
       "      <td>0</td>\n",
       "      <td>1</td>\n",
       "    </tr>\n",
       "  </tbody>\n",
       "</table>\n",
       "<p>5 rows × 160 columns</p>\n",
       "</div>"
      ],
      "text/plain": [
       "   NU_IDADE  Q005  NU_NOTA_TOT  IN_RENDIMENTO  SG_UF_RESIDENCIA_AL  \\\n",
       "0      17.0   3.0       2932.9       0.984189                    0   \n",
       "1      17.0   5.0       2790.0       0.984189                    0   \n",
       "2      17.0   2.0       3090.2       0.984189                    0   \n",
       "3      17.0   4.0       2908.3       0.984189                    0   \n",
       "4      18.0   4.0       3365.2       0.984189                    0   \n",
       "\n",
       "   SG_UF_RESIDENCIA_AM  SG_UF_RESIDENCIA_AP  SG_UF_RESIDENCIA_BA  \\\n",
       "0                    0                    0                    0   \n",
       "1                    0                    0                    0   \n",
       "2                    0                    0                    0   \n",
       "3                    0                    0                    0   \n",
       "4                    0                    0                    0   \n",
       "\n",
       "   SG_UF_RESIDENCIA_CE  SG_UF_RESIDENCIA_DF   ...    Q023_B  Q024_B  Q024_C  \\\n",
       "0                    0                    0   ...         1       1       0   \n",
       "1                    0                    0   ...         1       1       0   \n",
       "2                    0                    0   ...         0       0       1   \n",
       "3                    0                    0   ...         1       0       1   \n",
       "4                    0                    0   ...         1       0       1   \n",
       "\n",
       "   Q024_D  Q024_E  Q025_B  Q027_B  Q027_C  Q027_D  Q027_E  \n",
       "0       0       0       1       1       0       0       0  \n",
       "1       0       0       1       0       0       1       0  \n",
       "2       0       0       1       0       0       1       0  \n",
       "3       0       0       1       0       0       1       0  \n",
       "4       0       0       1       0       0       0       1  \n",
       "\n",
       "[5 rows x 160 columns]"
      ]
     },
     "execution_count": 5,
     "metadata": {},
     "output_type": "execute_result"
    }
   ],
   "source": [
    "df.head()"
   ]
  },
  {
   "cell_type": "code",
   "execution_count": 6,
   "metadata": {},
   "outputs": [],
   "source": [
    "# Particionando a base entre dados de treino e de teste (70-30)\n",
    "X = df.drop(['NU_NOTA_TOT'], axis=1)\n",
    "y = df['NU_NOTA_TOT']\n",
    "\n",
    "X_train, X_test, y_train, y_test = train_test_split(X, y, test_size=0.30, random_state=42)"
   ]
  },
  {
   "cell_type": "code",
   "execution_count": 7,
   "metadata": {},
   "outputs": [
    {
     "name": "stdout",
     "output_type": "stream",
     "text": [
      "Total de observações: 1119954\n",
      "Total de observações na partição de treino: 783967\n",
      "Total de observações na partição de teste: 335987\n"
     ]
    }
   ],
   "source": [
    "print('Total de observações: %d' % (len(X)))\n",
    "print('Total de observações na partição de treino: %d' % (len(X_train)))\n",
    "print('Total de observações na partição de teste: %d' % (len(X_test)))"
   ]
  },
  {
   "cell_type": "code",
   "execution_count": 8,
   "metadata": {},
   "outputs": [],
   "source": [
    "# Definindo algoritmos que serão avaliados\n",
    "model = XGBRegressor()"
   ]
  },
  {
   "cell_type": "code",
   "execution_count": 14,
   "metadata": {},
   "outputs": [
    {
     "name": "stderr",
     "output_type": "stream",
     "text": [
      "C:\\Users\\barba\\Anaconda3\\lib\\site-packages\\sklearn\\model_selection\\_search.py:281: UserWarning: The total space of parameters 4 is smaller than n_iter=10. Running 4 iterations. For exhaustive searches, use GridSearchCV.\n",
      "  % (grid_size, self.n_iter, grid_size), UserWarning)\n"
     ]
    },
    {
     "data": {
      "text/plain": [
       "RandomizedSearchCV(cv=None, error_score=nan,\n",
       "                   estimator=XGBRegressor(base_score=None, booster=None,\n",
       "                                          colsample_bylevel=None,\n",
       "                                          colsample_bynode=None,\n",
       "                                          colsample_bytree=None, gamma=None,\n",
       "                                          gpu_id=None, importance_type='gain',\n",
       "                                          interaction_constraints=None,\n",
       "                                          learning_rate=None,\n",
       "                                          max_delta_step=None, max_depth=None,\n",
       "                                          min_child_weight=None, missing=nan,\n",
       "                                          monotone_constraints=None...\n",
       "                                          objective='reg:squarederror',\n",
       "                                          random_state=None, reg_alpha=None,\n",
       "                                          reg_lambda=None,\n",
       "                                          scale_pos_weight=None, subsample=None,\n",
       "                                          tree_method=None,\n",
       "                                          validate_parameters=False,\n",
       "                                          verbosity=None),\n",
       "                   iid='deprecated', n_iter=10, n_jobs=None,\n",
       "                   param_distributions={'n_estimators': [10, 30, 50, 150]},\n",
       "                   pre_dispatch='2*n_jobs', random_state=42, refit=True,\n",
       "                   return_train_score=False, scoring=None, verbose=0)"
      ]
     },
     "execution_count": 14,
     "metadata": {},
     "output_type": "execute_result"
    }
   ],
   "source": [
    "# Hiperparâmetros que serão testados \n",
    "hyper = {'n_estimators': [10, 30, 50, 150]}\n",
    "\n",
    "cv_model = RandomizedSearchCV(estimator = model, param_distributions = hyper, random_state = 42)\n",
    "\n",
    "# Ajustando o modelo\n",
    "cv_model.fit(X_train,y_train)"
   ]
  },
  {
   "cell_type": "code",
   "execution_count": 19,
   "metadata": {
    "scrolled": true
   },
   "outputs": [
    {
     "data": {
      "text/html": [
       "<div>\n",
       "<style scoped>\n",
       "    .dataframe tbody tr th:only-of-type {\n",
       "        vertical-align: middle;\n",
       "    }\n",
       "\n",
       "    .dataframe tbody tr th {\n",
       "        vertical-align: top;\n",
       "    }\n",
       "\n",
       "    .dataframe thead th {\n",
       "        text-align: right;\n",
       "    }\n",
       "</style>\n",
       "<table border=\"1\" class=\"dataframe\">\n",
       "  <thead>\n",
       "    <tr style=\"text-align: right;\">\n",
       "      <th></th>\n",
       "      <th>mean_fit_time</th>\n",
       "      <th>std_fit_time</th>\n",
       "      <th>mean_score_time</th>\n",
       "      <th>std_score_time</th>\n",
       "      <th>param_n_estimators</th>\n",
       "      <th>params</th>\n",
       "      <th>split0_test_score</th>\n",
       "      <th>split1_test_score</th>\n",
       "      <th>split2_test_score</th>\n",
       "      <th>split3_test_score</th>\n",
       "      <th>split4_test_score</th>\n",
       "      <th>mean_test_score</th>\n",
       "      <th>std_test_score</th>\n",
       "      <th>rank_test_score</th>\n",
       "    </tr>\n",
       "  </thead>\n",
       "  <tbody>\n",
       "    <tr>\n",
       "      <th>0</th>\n",
       "      <td>46.085337</td>\n",
       "      <td>3.363394</td>\n",
       "      <td>2.238247</td>\n",
       "      <td>0.206186</td>\n",
       "      <td>10</td>\n",
       "      <td>{'n_estimators': 10}</td>\n",
       "      <td>0.407071</td>\n",
       "      <td>0.407677</td>\n",
       "      <td>0.409485</td>\n",
       "      <td>0.405894</td>\n",
       "      <td>0.409887</td>\n",
       "      <td>0.408003</td>\n",
       "      <td>0.001495</td>\n",
       "      <td>4</td>\n",
       "    </tr>\n",
       "    <tr>\n",
       "      <th>1</th>\n",
       "      <td>105.451623</td>\n",
       "      <td>2.837880</td>\n",
       "      <td>2.346806</td>\n",
       "      <td>0.339808</td>\n",
       "      <td>30</td>\n",
       "      <td>{'n_estimators': 30}</td>\n",
       "      <td>0.455480</td>\n",
       "      <td>0.459640</td>\n",
       "      <td>0.460686</td>\n",
       "      <td>0.456538</td>\n",
       "      <td>0.461292</td>\n",
       "      <td>0.458727</td>\n",
       "      <td>0.002306</td>\n",
       "      <td>3</td>\n",
       "    </tr>\n",
       "    <tr>\n",
       "      <th>2</th>\n",
       "      <td>182.831072</td>\n",
       "      <td>5.650264</td>\n",
       "      <td>2.586187</td>\n",
       "      <td>0.235587</td>\n",
       "      <td>50</td>\n",
       "      <td>{'n_estimators': 50}</td>\n",
       "      <td>0.460560</td>\n",
       "      <td>0.465501</td>\n",
       "      <td>0.465817</td>\n",
       "      <td>0.463031</td>\n",
       "      <td>0.467225</td>\n",
       "      <td>0.464427</td>\n",
       "      <td>0.002358</td>\n",
       "      <td>2</td>\n",
       "    </tr>\n",
       "    <tr>\n",
       "      <th>3</th>\n",
       "      <td>521.734115</td>\n",
       "      <td>19.560034</td>\n",
       "      <td>2.947721</td>\n",
       "      <td>0.332661</td>\n",
       "      <td>150</td>\n",
       "      <td>{'n_estimators': 150}</td>\n",
       "      <td>0.469590</td>\n",
       "      <td>0.474713</td>\n",
       "      <td>0.474567</td>\n",
       "      <td>0.470685</td>\n",
       "      <td>0.475996</td>\n",
       "      <td>0.473110</td>\n",
       "      <td>0.002502</td>\n",
       "      <td>1</td>\n",
       "    </tr>\n",
       "  </tbody>\n",
       "</table>\n",
       "</div>"
      ],
      "text/plain": [
       "   mean_fit_time  std_fit_time  mean_score_time  std_score_time  \\\n",
       "0      46.085337      3.363394         2.238247        0.206186   \n",
       "1     105.451623      2.837880         2.346806        0.339808   \n",
       "2     182.831072      5.650264         2.586187        0.235587   \n",
       "3     521.734115     19.560034         2.947721        0.332661   \n",
       "\n",
       "  param_n_estimators                 params  split0_test_score  \\\n",
       "0                 10   {'n_estimators': 10}           0.407071   \n",
       "1                 30   {'n_estimators': 30}           0.455480   \n",
       "2                 50   {'n_estimators': 50}           0.460560   \n",
       "3                150  {'n_estimators': 150}           0.469590   \n",
       "\n",
       "   split1_test_score  split2_test_score  split3_test_score  split4_test_score  \\\n",
       "0           0.407677           0.409485           0.405894           0.409887   \n",
       "1           0.459640           0.460686           0.456538           0.461292   \n",
       "2           0.465501           0.465817           0.463031           0.467225   \n",
       "3           0.474713           0.474567           0.470685           0.475996   \n",
       "\n",
       "   mean_test_score  std_test_score  rank_test_score  \n",
       "0         0.408003        0.001495                4  \n",
       "1         0.458727        0.002306                3  \n",
       "2         0.464427        0.002358                2  \n",
       "3         0.473110        0.002502                1  "
      ]
     },
     "execution_count": 19,
     "metadata": {},
     "output_type": "execute_result"
    }
   ],
   "source": [
    "# Visualizando os resultados da busca por hiperparâmetros\n",
    "pd.set_option('max_columns', 200)\n",
    "pd.DataFrame(cv_model.cv_results_)"
   ]
  },
  {
   "cell_type": "code",
   "execution_count": 52,
   "metadata": {},
   "outputs": [
    {
     "name": "stdout",
     "output_type": "stream",
     "text": [
      "XGBRegressor(base_score=0.5, booster=None, colsample_bylevel=1,\n",
      "             colsample_bynode=1, colsample_bytree=1, gamma=0, gpu_id=-1,\n",
      "             importance_type='gain', interaction_constraints=None,\n",
      "             learning_rate=0.300000012, max_delta_step=0, max_depth=6,\n",
      "             min_child_weight=1, missing=nan, monotone_constraints=None,\n",
      "             n_estimators=150, n_jobs=0, num_parallel_tree=1,\n",
      "             objective='reg:squarederror', random_state=0, reg_alpha=0,\n",
      "             reg_lambda=1, scale_pos_weight=1, subsample=1, tree_method=None,\n",
      "             validate_parameters=False, verbosity=None)\n"
     ]
    }
   ],
   "source": [
    "# Verificando qual foi o melhor estimador\n",
    "print(cv_model.best_estimator_)"
   ]
  },
  {
   "cell_type": "code",
   "execution_count": 40,
   "metadata": {},
   "outputs": [],
   "source": [
    "# Exportando o melhor estimador\n",
    "joblib.dump(cv_model.best_estimator_, 'model_v01.pkl')\n",
    "\n",
    "# Carregando o modelo treinado\n",
    "with open('model_v01.pkl', 'rb') as f:\n",
    "    model = pickle.load(f)\n",
    "    \n",
    "# Obtendo as predições das notas dos participantes para o conjunto de teste\n",
    "y_predict = model.predict(X_test)"
   ]
  },
  {
   "cell_type": "code",
   "execution_count": 76,
   "metadata": {},
   "outputs": [
    {
     "data": {
      "text/plain": [
       "(9.507535472519201, 307.73873663178153, 0.4747892049547263, 0.6890562998053036)"
      ]
     },
     "execution_count": 76,
     "metadata": {},
     "output_type": "execute_result"
    }
   ],
   "source": [
    "# Cálculo das métricas de avaliação da performance do modelo na partição de teste\n",
    "Metrics(ytrue = y_test, ypred = y_predict)"
   ]
  },
  {
   "cell_type": "code",
   "execution_count": 77,
   "metadata": {},
   "outputs": [
    {
     "data": {
      "image/png": "[encoded data removed]",
      "text/plain": [
       "<Figure size 432x288 with 1 Axes>"
      ]
     },
     "metadata": {},
     "output_type": "display_data"
    }
   ],
   "source": [
    "# Ranking das 10 variáveis mais importantes\n",
    "plot_importance(model, max_num_features=10)\n",
    "pyplot.show()"
   ]
  },
  {
   "cell_type": "code",
   "execution_count": 78,
   "metadata": {
    "scrolled": false
   },
   "outputs": [
    {
     "data": {
      "text/plain": [
       "<matplotlib.axes._subplots.AxesSubplot at 0x22eb83ce908>"
      ]
     },
     "execution_count": 78,
     "metadata": {},
     "output_type": "execute_result"
    },
    {
     "data": {
      "image/png": "[encoded data removed]",
      "text/plain": [
       "<Figure size 432x288 with 1 Axes>"
      ]
     },
     "metadata": {},
     "output_type": "display_data"
    }
   ],
   "source": [
    "# Organizando os resultados em uma tabela\n",
    "result = pd.DataFrame(data={'Notas Reais': y_test, 'Notas Preditas': y_predict})\n",
    "result['diferenca'] = abs(result['Notas Reais'] - result['Notas Preditas'])\n",
    "\n",
    "# Construindo gráfico de dispersão entre os valores reais e os valores preditos\n",
    "sns.set()\n",
    "ax = sns.scatterplot(x='Notas Reais', y='Notas Preditas', data=result)\n",
    "ax"
   ]
  }
 ],
 "metadata": {
  "kernelspec": {
   "display_name": "Python 3",
   "language": "python",
   "name": "python3"
  },
  "language_info": {
   "codemirror_mode": {
    "name": "ipython",
    "version": 3
   },
   "file_extension": ".py",
   "mimetype": "text/x-python",
   "name": "python",
   "nbconvert_exporter": "python",
   "pygments_lexer": "ipython3",
   "version": "3.7.0"
  }
 },
 "nbformat": 4,
 "nbformat_minor": 2
}
